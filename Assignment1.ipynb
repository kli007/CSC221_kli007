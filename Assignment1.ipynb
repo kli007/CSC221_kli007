{
  "nbformat": 4,
  "nbformat_minor": 0,
  "metadata": {
    "colab": {
      "provenance": []
    },
    "kernelspec": {
      "name": "python3",
      "display_name": "Python 3"
    },
    "language_info": {
      "name": "python"
    }
  },
  "cells": [
    {
      "cell_type": "code",
      "execution_count": 6,
      "metadata": {
        "colab": {
          "base_uri": "https://localhost:8080/"
        },
        "id": "2eQWsrDl3daq",
        "outputId": "b5595203-d7e0-4b45-ecbc-ad44a17e46cc"
      },
      "outputs": [
        {
          "output_type": "stream",
          "name": "stdout",
          "text": [
            "Hello, Kevin's speaking\n"
          ]
        }
      ],
      "source": [
        "x = 0\n",
        "\n",
        "if(x==0):\n",
        "    print(\"Hello, Kevin's speaking\")\n",
        "\n",
        "else:\n",
        "    print(\"Nobody's here\")\n"
      ]
    }
  ]
}