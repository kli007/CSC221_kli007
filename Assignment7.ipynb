{
  "nbformat": 4,
  "nbformat_minor": 0,
  "metadata": {
    "colab": {
      "provenance": [],
      "authorship_tag": "ABX9TyNrI9vvzKxoLqnwd2hqASC0",
      "include_colab_link": true
    },
    "kernelspec": {
      "name": "python3",
      "display_name": "Python 3"
    },
    "language_info": {
      "name": "python"
    }
  },
  "cells": [
    {
      "cell_type": "markdown",
      "metadata": {
        "id": "view-in-github",
        "colab_type": "text"
      },
      "source": [
        "<a href=\"https://colab.research.google.com/github/kli007/CSC221_kli007/blob/main/Assignment7.ipynb\" target=\"_parent\"><img src=\"https://colab.research.google.com/assets/colab-badge.svg\" alt=\"Open In Colab\"/></a>"
      ]
    },
    {
      "cell_type": "code",
      "execution_count": null,
      "metadata": {
        "colab": {
          "base_uri": "https://localhost:8080/"
        },
        "id": "ABAFD9P-9Dgj",
        "outputId": "55723479-3004-41d6-b9e0-0357cd7d8a7d"
      },
      "outputs": [
        {
          "output_type": "stream",
          "name": "stdout",
          "text": [
            "August\n",
            "Htoo\n",
            "19\n",
            "Glendale\n"
          ]
        }
      ],
      "source": [
        "#6-1\n",
        "person = {'fName': 'August', 'lName': 'Htoo', 'age': '19', 'city': 'Glendale'}\n",
        "print(person['fName'])\n",
        "print(person['lName'])\n",
        "print(person['age'])\n",
        "print(person['city'])"
      ]
    },
    {
      "cell_type": "code",
      "source": [
        "#6-2\n",
        "favNum = {'Kevin': '20', 'Ulyseus': '12', 'Tiffany': '13', 'Mike': '47', 'Huan': '100'}\n",
        "print(f\"Kevin's favorite number is {favNum['Kevin']}\")\n",
        "print(f\"Ulyseus's favorite number is {favNum['Ulyseus']}\")\n",
        "print(f\"Tiffany's favorite number is {favNum['Tiffany']}\")\n",
        "print(f\"Mike's favorite number is {favNum['Mike']}\")\n",
        "print(f\"Huan's favorite number is {favNum['Huan']}\")"
      ],
      "metadata": {
        "colab": {
          "base_uri": "https://localhost:8080/"
        },
        "id": "WPZCyj5V_FQg",
        "outputId": "4d1f92b2-f90b-4a80-acc4-baf764a4fdd7"
      },
      "execution_count": null,
      "outputs": [
        {
          "output_type": "stream",
          "name": "stdout",
          "text": [
            "Kevin's favorite number is 20\n",
            "Ulyseus's favorite number is 12\n",
            "Tiffany's favorite number is 13\n",
            "Mike's favorite number is 47\n",
            "Huan's favorite number is 100\n"
          ]
        }
      ]
    },
    {
      "cell_type": "code",
      "source": [
        "#6-3\n",
        "glossary = {'list': 'An ordered, and changeable, collection of values', 'if': 'A conditional test',\n",
        "            'variable': 'A label assigned to a value', 'print': 'Displaying the selected value',\n",
        "            'comment': 'Notes that do not affect code' }\n",
        "\n",
        "print(f\"list: {glossary['list']}\")\n",
        "print(f\"\\nif: {glossary['if']}\")\n",
        "print(f\"\\nvariable: {glossary['variable']}\")\n",
        "print(f\"\\nprint: {glossary['print']}\")\n",
        "print(f\"\\ncomment: {glossary['comment']}\")"
      ],
      "metadata": {
        "colab": {
          "base_uri": "https://localhost:8080/"
        },
        "id": "QmtgZBP1AVQF",
        "outputId": "1ad4d7a1-80d1-4cae-8b8e-2cc66db76e87"
      },
      "execution_count": null,
      "outputs": [
        {
          "output_type": "stream",
          "name": "stdout",
          "text": [
            "list: An ordered, and changeable, collection of values\n",
            "\n",
            "if: A conditional test\n",
            "\n",
            "variable: A label assigned to a value\n",
            "\n",
            "print: Displaying the selected value\n",
            "\n",
            "comment: Notes that do not affect code\n"
          ]
        }
      ]
    },
    {
      "cell_type": "code",
      "source": [
        "#6-4\n",
        "glossary = {'list': 'An ordered, and changeable, collection of values', 'if': 'A conditional test',\n",
        "            'variable': 'A label assigned to a value', 'print': 'Displaying the selected value',\n",
        "            'comment': 'Notes that do not affect code',\n",
        "            'string': 'A series of characters', 'boolean': 'A true or false expression',\n",
        "            'elif': 'Another if test after the 1st failed', 'dictionary': 'A collection of key-value pairs',\n",
        "            'syntax error': 'non-valid python code'}\n",
        "\n",
        "for n, v in glossary.items():\n",
        "  print(f\"{n}: {v}\\n\")"
      ],
      "metadata": {
        "colab": {
          "base_uri": "https://localhost:8080/"
        },
        "id": "9Tyct4-fFagR",
        "outputId": "60b5c686-15f8-40fd-bbbd-7cea8a1d25c1"
      },
      "execution_count": null,
      "outputs": [
        {
          "output_type": "stream",
          "name": "stdout",
          "text": [
            "list: An ordered, and changeable, collection of values\n",
            "\n",
            "if: A conditional test\n",
            "\n",
            "variable: A label assigned to a value\n",
            "\n",
            "print: Displaying the selected value\n",
            "\n",
            "comment: Notes that do not affect code\n",
            "\n",
            "string: A series of characters\n",
            "\n",
            "boolean: A true or false expression\n",
            "\n",
            "elif: Another if test after the 1st failed\n",
            "\n",
            "dictionary: A collection of key-value pairs\n",
            "\n",
            "syntax error: non-valid python code\n",
            "\n"
          ]
        }
      ]
    },
    {
      "cell_type": "code",
      "source": [
        "#6-11\n",
        "cities = {'New York City': {'country': 'USA', 'population': '8.468 Million', 'fact': 'More than 800 languages spoken here'},\n",
        "          'Las Vegas': {'country': 'USA', 'population': '646,790', 'fact': 'Also called Sin city'},\n",
        "          'Kyoto': {'country': 'Japan', 'population': '1.475 Million', 'fact': 'Former capital of Japan'}}\n",
        "print(f\"New York City:\\n \\t{cities['New York City']}\")\n",
        "print(f\"Las Vegas:\\n \\t{cities['Las Vegas']}\")\n",
        "print(f\"Kyoto:\\n \\t{cities['Kyoto']}\")"
      ],
      "metadata": {
        "id": "33YSQx8zImeE",
        "colab": {
          "base_uri": "https://localhost:8080/"
        },
        "outputId": "2ed1baed-51d3-46b0-f23d-9ebc97347cd8"
      },
      "execution_count": null,
      "outputs": [
        {
          "output_type": "stream",
          "name": "stdout",
          "text": [
            "New York City:\n",
            " \t{'country': 'USA', 'population': '8.468 Million', 'fact': 'More than 800 languages spoken here'}\n",
            "Las Vegas:\n",
            " \t{'country': 'USA', 'population': '646,790', 'fact': 'Also called Sin city'}\n",
            "Kyoto:\n",
            " \t{'country': 'Japan', 'population': '1.475 Million', 'fact': 'Former capital of Japan'}\n"
          ]
        }
      ]
    },
    {
      "cell_type": "markdown",
      "source": [
        "Tim 97\n",
        "Jake 62\n",
        "Leon 70\n",
        "Kimathy 67\n",
        "Frank 100\n",
        "Penny 89\n",
        "Liz 87"
      ],
      "metadata": {
        "id": "Tol_6z4uVtRr"
      }
    },
    {
      "cell_type": "code",
      "source": [
        "#project\n",
        "from google.colab import files\n",
        "upload = files.upload()"
      ],
      "metadata": {
        "colab": {
          "base_uri": "https://localhost:8080/",
          "height": 90
        },
        "id": "C_NIdjjWUVed",
        "outputId": "a55f9706-da08-4b0e-ad47-d60fbb6e51dc"
      },
      "execution_count": null,
      "outputs": [
        {
          "output_type": "display_data",
          "data": {
            "text/plain": [
              "<IPython.core.display.HTML object>"
            ],
            "text/html": [
              "\n",
              "     <input type=\"file\" id=\"files-6aa07ded-3a27-413a-b14e-200cee493184\" name=\"files[]\" multiple disabled\n",
              "        style=\"border:none\" />\n",
              "     <output id=\"result-6aa07ded-3a27-413a-b14e-200cee493184\">\n",
              "      Upload widget is only available when the cell has been executed in the\n",
              "      current browser session. Please rerun this cell to enable.\n",
              "      </output>\n",
              "      <script>// Copyright 2017 Google LLC\n",
              "//\n",
              "// Licensed under the Apache License, Version 2.0 (the \"License\");\n",
              "// you may not use this file except in compliance with the License.\n",
              "// You may obtain a copy of the License at\n",
              "//\n",
              "//      http://www.apache.org/licenses/LICENSE-2.0\n",
              "//\n",
              "// Unless required by applicable law or agreed to in writing, software\n",
              "// distributed under the License is distributed on an \"AS IS\" BASIS,\n",
              "// WITHOUT WARRANTIES OR CONDITIONS OF ANY KIND, either express or implied.\n",
              "// See the License for the specific language governing permissions and\n",
              "// limitations under the License.\n",
              "\n",
              "/**\n",
              " * @fileoverview Helpers for google.colab Python module.\n",
              " */\n",
              "(function(scope) {\n",
              "function span(text, styleAttributes = {}) {\n",
              "  const element = document.createElement('span');\n",
              "  element.textContent = text;\n",
              "  for (const key of Object.keys(styleAttributes)) {\n",
              "    element.style[key] = styleAttributes[key];\n",
              "  }\n",
              "  return element;\n",
              "}\n",
              "\n",
              "// Max number of bytes which will be uploaded at a time.\n",
              "const MAX_PAYLOAD_SIZE = 100 * 1024;\n",
              "\n",
              "function _uploadFiles(inputId, outputId) {\n",
              "  const steps = uploadFilesStep(inputId, outputId);\n",
              "  const outputElement = document.getElementById(outputId);\n",
              "  // Cache steps on the outputElement to make it available for the next call\n",
              "  // to uploadFilesContinue from Python.\n",
              "  outputElement.steps = steps;\n",
              "\n",
              "  return _uploadFilesContinue(outputId);\n",
              "}\n",
              "\n",
              "// This is roughly an async generator (not supported in the browser yet),\n",
              "// where there are multiple asynchronous steps and the Python side is going\n",
              "// to poll for completion of each step.\n",
              "// This uses a Promise to block the python side on completion of each step,\n",
              "// then passes the result of the previous step as the input to the next step.\n",
              "function _uploadFilesContinue(outputId) {\n",
              "  const outputElement = document.getElementById(outputId);\n",
              "  const steps = outputElement.steps;\n",
              "\n",
              "  const next = steps.next(outputElement.lastPromiseValue);\n",
              "  return Promise.resolve(next.value.promise).then((value) => {\n",
              "    // Cache the last promise value to make it available to the next\n",
              "    // step of the generator.\n",
              "    outputElement.lastPromiseValue = value;\n",
              "    return next.value.response;\n",
              "  });\n",
              "}\n",
              "\n",
              "/**\n",
              " * Generator function which is called between each async step of the upload\n",
              " * process.\n",
              " * @param {string} inputId Element ID of the input file picker element.\n",
              " * @param {string} outputId Element ID of the output display.\n",
              " * @return {!Iterable<!Object>} Iterable of next steps.\n",
              " */\n",
              "function* uploadFilesStep(inputId, outputId) {\n",
              "  const inputElement = document.getElementById(inputId);\n",
              "  inputElement.disabled = false;\n",
              "\n",
              "  const outputElement = document.getElementById(outputId);\n",
              "  outputElement.innerHTML = '';\n",
              "\n",
              "  const pickedPromise = new Promise((resolve) => {\n",
              "    inputElement.addEventListener('change', (e) => {\n",
              "      resolve(e.target.files);\n",
              "    });\n",
              "  });\n",
              "\n",
              "  const cancel = document.createElement('button');\n",
              "  inputElement.parentElement.appendChild(cancel);\n",
              "  cancel.textContent = 'Cancel upload';\n",
              "  const cancelPromise = new Promise((resolve) => {\n",
              "    cancel.onclick = () => {\n",
              "      resolve(null);\n",
              "    };\n",
              "  });\n",
              "\n",
              "  // Wait for the user to pick the files.\n",
              "  const files = yield {\n",
              "    promise: Promise.race([pickedPromise, cancelPromise]),\n",
              "    response: {\n",
              "      action: 'starting',\n",
              "    }\n",
              "  };\n",
              "\n",
              "  cancel.remove();\n",
              "\n",
              "  // Disable the input element since further picks are not allowed.\n",
              "  inputElement.disabled = true;\n",
              "\n",
              "  if (!files) {\n",
              "    return {\n",
              "      response: {\n",
              "        action: 'complete',\n",
              "      }\n",
              "    };\n",
              "  }\n",
              "\n",
              "  for (const file of files) {\n",
              "    const li = document.createElement('li');\n",
              "    li.append(span(file.name, {fontWeight: 'bold'}));\n",
              "    li.append(span(\n",
              "        `(${file.type || 'n/a'}) - ${file.size} bytes, ` +\n",
              "        `last modified: ${\n",
              "            file.lastModifiedDate ? file.lastModifiedDate.toLocaleDateString() :\n",
              "                                    'n/a'} - `));\n",
              "    const percent = span('0% done');\n",
              "    li.appendChild(percent);\n",
              "\n",
              "    outputElement.appendChild(li);\n",
              "\n",
              "    const fileDataPromise = new Promise((resolve) => {\n",
              "      const reader = new FileReader();\n",
              "      reader.onload = (e) => {\n",
              "        resolve(e.target.result);\n",
              "      };\n",
              "      reader.readAsArrayBuffer(file);\n",
              "    });\n",
              "    // Wait for the data to be ready.\n",
              "    let fileData = yield {\n",
              "      promise: fileDataPromise,\n",
              "      response: {\n",
              "        action: 'continue',\n",
              "      }\n",
              "    };\n",
              "\n",
              "    // Use a chunked sending to avoid message size limits. See b/62115660.\n",
              "    let position = 0;\n",
              "    do {\n",
              "      const length = Math.min(fileData.byteLength - position, MAX_PAYLOAD_SIZE);\n",
              "      const chunk = new Uint8Array(fileData, position, length);\n",
              "      position += length;\n",
              "\n",
              "      const base64 = btoa(String.fromCharCode.apply(null, chunk));\n",
              "      yield {\n",
              "        response: {\n",
              "          action: 'append',\n",
              "          file: file.name,\n",
              "          data: base64,\n",
              "        },\n",
              "      };\n",
              "\n",
              "      let percentDone = fileData.byteLength === 0 ?\n",
              "          100 :\n",
              "          Math.round((position / fileData.byteLength) * 100);\n",
              "      percent.textContent = `${percentDone}% done`;\n",
              "\n",
              "    } while (position < fileData.byteLength);\n",
              "  }\n",
              "\n",
              "  // All done.\n",
              "  yield {\n",
              "    response: {\n",
              "      action: 'complete',\n",
              "    }\n",
              "  };\n",
              "}\n",
              "\n",
              "scope.google = scope.google || {};\n",
              "scope.google.colab = scope.google.colab || {};\n",
              "scope.google.colab._files = {\n",
              "  _uploadFiles,\n",
              "  _uploadFilesContinue,\n",
              "};\n",
              "})(self);\n",
              "</script> "
            ]
          },
          "metadata": {}
        },
        {
          "output_type": "stream",
          "name": "stdout",
          "text": [
            "Saving grade.txt to grade (3).txt\n",
            "{\"{'grade (3).txt': b'Tim 97\\\\r\\\\nJake 62\\\\r\\\\nLeon 70\\\\r\\\\nKimathy 67\\\\r\\\\nFrank 100\\\\r\\\\nPenny 89\\\\r\\\\nLiz 87'}\"}\n"
          ]
        }
      ]
    },
    {
      "cell_type": "code",
      "source": [
        "#project part 2\n",
        "temp = str(upload)\n",
        "temp = temp.replace(\"\\\\r\\\\n\" , \" \")\n",
        "temp = temp.lstrip(\"{'grade (3).txt': b'\")\n",
        "temp = temp.rstrip(\"'}\")\n",
        "templist = list(temp.split(' '))\n",
        "grades = {}\n",
        "while templist:\n",
        "    grades[templist[0]] = int(templist[1])\n",
        "    del templist[0:2]\n",
        "for person, grade in sorted(grades.items()):\n",
        "  print(f'{person}: {grade}')\n",
        "print('\\n')\n",
        "for person, grade in sorted(grades.items(), key=lambda x:x[1], reverse=True):\n",
        "  print(f'{person}: {grade}')"
      ],
      "metadata": {
        "colab": {
          "base_uri": "https://localhost:8080/"
        },
        "id": "IZbRkMDJZ1Qg",
        "outputId": "3187ac17-dc2c-46d3-86e7-b58433e7fd51"
      },
      "execution_count": 66,
      "outputs": [
        {
          "output_type": "stream",
          "name": "stdout",
          "text": [
            "Frank: 100\n",
            "Jake: 62\n",
            "Kimathy: 67\n",
            "Leon: 70\n",
            "Liz: 87\n",
            "Penny: 89\n",
            "Tim: 97\n",
            "\n",
            "\n",
            "Frank: 100\n",
            "Tim: 97\n",
            "Penny: 89\n",
            "Liz: 87\n",
            "Leon: 70\n",
            "Kimathy: 67\n",
            "Jake: 62\n"
          ]
        }
      ]
    }
  ]
}