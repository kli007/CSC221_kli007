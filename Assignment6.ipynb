{
  "nbformat": 4,
  "nbformat_minor": 0,
  "metadata": {
    "colab": {
      "provenance": [],
      "authorship_tag": "ABX9TyNwb//XEIlounjPSx1tcW12",
      "include_colab_link": true
    },
    "kernelspec": {
      "name": "python3",
      "display_name": "Python 3"
    },
    "language_info": {
      "name": "python"
    }
  },
  "cells": [
    {
      "cell_type": "markdown",
      "metadata": {
        "id": "view-in-github",
        "colab_type": "text"
      },
      "source": [
        "<a href=\"https://colab.research.google.com/github/kli007/CSC221_kli007/blob/main/Assignment6.ipynb\" target=\"_parent\"><img src=\"https://colab.research.google.com/assets/colab-badge.svg\" alt=\"Open In Colab\"/></a>"
      ]
    },
    {
      "cell_type": "code",
      "execution_count": null,
      "metadata": {
        "colab": {
          "base_uri": "https://localhost:8080/"
        },
        "id": "Z61i0AYLMIsK",
        "outputId": "1cffd582-1e18-4dea-ebee-c48dd17d2ceb"
      },
      "outputs": [
        {
          "output_type": "stream",
          "name": "stdout",
          "text": [
            "1) Is food != 'bread', I think it is false\n",
            "False\n",
            "\n",
            "2) Is number > 3, I think it is true\n",
            "True\n",
            "\n",
            "3) Is name == 'Kevin', I think it is true\n",
            "True\n",
            "\n",
            "4) Is number == (7+2), I think it is false\n",
            "False\n",
            "\n",
            "5) Is number == (7+6) and food == 'bread', I think it is true\n",
            "True\n",
            "\n",
            "6) Is 9 in numlist, I think it is false\n",
            "False\n",
            "\n",
            "7) Is 9 in numlist or number == 12, I think it is false\n",
            "False\n",
            "\n",
            "8) Is 9 in numlist or number == 12 or name == 'Kevin', I think it is true\n",
            "True\n",
            "\n",
            "9) Is (9 in numlist or number == 12 or name == 'Kevin') and food == 'bread', I think it is true\n",
            "True\n",
            "\n",
            "10) Is (9 in numlist or number == 12 and name == 'Kevin') and food == 'bread', I think it is false\n",
            "False\n",
            "\n",
            "Is food.lower() == 'TACO', I think it is false\n",
            "False\n",
            "\n",
            "Is name.lower() == 'kevin', I think it is true\n",
            "True\n"
          ]
        }
      ],
      "source": [
        "#5-1\n",
        "food = 'bread'\n",
        "print(\"1) Is food != 'bread', I think it is false\")\n",
        "print(food != 'bread')\n",
        "\n",
        "number = 7\n",
        "print(\"\\n2) Is number > 3, I think it is true\")\n",
        "print(number > 3)\n",
        "\n",
        "name = 'Kevin'\n",
        "print(\"\\n3) Is name == 'Kevin', I think it is true\")\n",
        "print(name == 'Kevin')\n",
        "\n",
        "number = 13\n",
        "print(\"\\n4) Is number == (7+2), I think it is false\")\n",
        "print(number == (7+2))\n",
        "\n",
        "print(\"\\n5) Is number == (7+6) and food == 'bread', I think it is true\")\n",
        "print(number == (7+6) and food == 'bread')\n",
        "\n",
        "numlist = [7, 12, 4]\n",
        "print(\"\\n6) Is 9 in numlist, I think it is false\")\n",
        "print(9 in numlist)\n",
        "\n",
        "print(\"\\n7) Is 9 in numlist or number == 12, I think it is false\")\n",
        "print(9 in numlist or number==12)\n",
        "\n",
        "print(\"\\n8) Is 9 in numlist or number == 12 or name == 'Kevin', I think it is true\")\n",
        "print(9 in numlist or number == 12 or name == 'Kevin')\n",
        "\n",
        "print(\"\\n9) Is (9 in numlist or number == 12 or name == 'Kevin') and food == 'bread', I think it is true\")\n",
        "print((9 in numlist or number == 12 or name == 'Kevin') and food == 'bread')\n",
        "\n",
        "print(\"\\n10) Is (9 in numlist or number == 12 and name == 'Kevin') and food == 'bread', I think it is false\")\n",
        "print((9 in numlist or number == 12 and name == 'Kevin') and food == 'bread')\n",
        "\n",
        "food = 'taco'\n",
        "print(\"\\nIs food.lower() == 'TACO', I think it is false\")\n",
        "print(food.lower() == 'TACO')\n",
        "\n",
        "name = 'Kevin'\n",
        "print(\"\\nIs name.lower() == 'kevin', I think it is true\")\n",
        "print(name.lower() == 'kevin')"
      ]
    },
    {
      "cell_type": "code",
      "source": [
        "#5-2\n",
        "#added\n",
        "\n"
      ],
      "metadata": {
        "id": "-ver3z6oQei3"
      },
      "execution_count": null,
      "outputs": []
    },
    {
      "cell_type": "code",
      "source": [
        "#5-3\n",
        "alien_color = 'green'\n",
        "if(alien_color == 'green'):\n",
        "  print('Player just earned 5 points')\n",
        "\n",
        "alien_color = 'yellow'\n",
        "if(alien_color == 'green'):\n",
        "  print('Player just earned 5 points')"
      ],
      "metadata": {
        "colab": {
          "base_uri": "https://localhost:8080/"
        },
        "id": "QLkLCRRNSWpk",
        "outputId": "456c3b00-f3c4-4b88-ab68-60d0969d1857"
      },
      "execution_count": null,
      "outputs": [
        {
          "output_type": "stream",
          "name": "stdout",
          "text": [
            "Player just earned 5 points\n"
          ]
        }
      ]
    },
    {
      "cell_type": "code",
      "source": [
        "#5-6\n",
        "age = 19\n",
        "if(age < 2):\n",
        "  print('You are baby')\n",
        "elif(age < 4):\n",
        "  print('You are toddler')\n",
        "elif(age < 13):\n",
        "  print('You are kid')\n",
        "elif(age < 20):\n",
        "  print('You are teenager')\n",
        "elif(age < 65):\n",
        "  print('You are adult')\n",
        "else:\n",
        "  print('You are elder')"
      ],
      "metadata": {
        "colab": {
          "base_uri": "https://localhost:8080/"
        },
        "id": "Sm4UQTCDTDcG",
        "outputId": "fe7a65ec-c9ea-4b11-8658-c551a5034e3c"
      },
      "execution_count": null,
      "outputs": [
        {
          "output_type": "stream",
          "name": "stdout",
          "text": [
            "You are teenager\n"
          ]
        }
      ]
    },
    {
      "cell_type": "code",
      "source": [
        "#5-12\n",
        "#done"
      ],
      "metadata": {
        "id": "uZZOC96nT0W5"
      },
      "execution_count": null,
      "outputs": []
    },
    {
      "cell_type": "code",
      "source": [
        "#5-13\n",
        "#my unique problem is that I live off-campus and\n",
        "#that the time needed to walk to school varies depending on various factors\n",
        "#like why day it is, where I am and what I'll be bringing with me\n",
        "\n",
        "#if i'm at my parents's restraunt\n",
        "  #if I don't have heavy luggage\n",
        "    #it will take 10 minutes\n",
        "  #else it will take 15 minutes\n",
        "#if i'm at my house\n",
        "  #if i have a ride, it will take 5 minutes\n",
        "  #else if I don't have heavy luggage\n",
        "    #it will take 30 minutes\n",
        "  #else it will take 35 minutes\n",
        "\n"
      ],
      "metadata": {
        "id": "g6PNR8AVUdDX"
      },
      "execution_count": null,
      "outputs": []
    },
    {
      "cell_type": "code",
      "source": [
        "#5-13 code\n",
        "location = 'House'\n",
        "luggage = 'Light'\n",
        "ride = True\n",
        "\n",
        "def time():\n",
        "  if (location == 'Restaurant'):\n",
        "    if (luggage == 'Light'):\n",
        "      print('It will take 10 minutes')\n",
        "    else:\n",
        "      print('It will take 15 minutes')\n",
        "  elif(location == 'House'):\n",
        "    if(ride):\n",
        "      print('It will take 5 minutes')\n",
        "    elif(luggage == 'Light'):\n",
        "      print('It will take 30 minutes')\n",
        "    else:\n",
        "      print('It will take 35 minutes')\n",
        "  else:\n",
        "    print('It will vary depending on location')\n",
        "\n",
        "time()\n",
        "\n",
        "location = 'House'\n",
        "luggage = 'Light'\n",
        "ride = False\n",
        "\n",
        "time()\n",
        "\n",
        "location = 'Restaurant'\n",
        "luggage = 'Light'\n",
        "ride = True\n",
        "\n",
        "time()\n",
        "\n",
        "location = 'Tent'\n",
        "luggage = 'Light'\n",
        "ride = True\n",
        "\n",
        "time()\n",
        "\n",
        "location = 'Restaurant'\n",
        "luggage = 'Heavy'\n",
        "ride = True\n",
        "\n",
        "time()\n",
        "\n",
        "location = 'House'\n",
        "luggage = 'Heavy'\n",
        "ride = False\n",
        "\n",
        "time()"
      ],
      "metadata": {
        "colab": {
          "base_uri": "https://localhost:8080/"
        },
        "id": "OW1sNR8Zazw9",
        "outputId": "264fe350-9d06-420f-e2af-4ce10fc796db"
      },
      "execution_count": 44,
      "outputs": [
        {
          "output_type": "stream",
          "name": "stdout",
          "text": [
            "It will take 5 minutes\n",
            "It will take 30 minutes\n",
            "It will take 10 minutes\n",
            "It will vary depending on location\n",
            "It will take 15 minutes\n",
            "It will take 35 minutes\n"
          ]
        }
      ]
    }
  ]
}