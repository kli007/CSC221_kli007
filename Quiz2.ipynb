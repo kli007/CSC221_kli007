{
  "nbformat": 4,
  "nbformat_minor": 0,
  "metadata": {
    "colab": {
      "provenance": [],
      "authorship_tag": "ABX9TyMdzp0t71Icqpwwn7PPNzJY",
      "include_colab_link": true
    },
    "kernelspec": {
      "name": "python3",
      "display_name": "Python 3"
    },
    "language_info": {
      "name": "python"
    }
  },
  "cells": [
    {
      "cell_type": "markdown",
      "metadata": {
        "id": "view-in-github",
        "colab_type": "text"
      },
      "source": [
        "<a href=\"https://colab.research.google.com/github/kli007/CSC221_kli007/blob/main/Quiz2.ipynb\" target=\"_parent\"><img src=\"https://colab.research.google.com/assets/colab-badge.svg\" alt=\"Open In Colab\"/></a>"
      ]
    },
    {
      "cell_type": "code",
      "execution_count": null,
      "metadata": {
        "colab": {
          "base_uri": "https://localhost:8080/"
        },
        "id": "E-3Mr6YvIFYu",
        "outputId": "93f811c5-a0ea-42e3-c669-f087dae98554"
      },
      "outputs": [
        {
          "output_type": "stream",
          "name": "stdout",
          "text": [
            "Base 0 has no value\n",
            "Base 1 value is 1\n"
          ]
        }
      ],
      "source": [
        "base = [None, 1]\n",
        "for x in range(0, 2):\n",
        "  if base[x] == None:\n",
        "    print(f\"Base {x} has no value\")\n",
        "  else:\n",
        "    print(f\"Base {x} value is {base[x]}\")"
      ]
    },
    {
      "cell_type": "code",
      "source": [
        "positive = True\n",
        "\n",
        "def check():\n",
        "  if positive == False:\n",
        "    print(\"The Number is Negative\")\n",
        "  else:\n",
        "    print(\"The Number is Positive\")\n",
        "\n",
        "check()\n",
        "positive = False\n",
        "check()"
      ],
      "metadata": {
        "colab": {
          "base_uri": "https://localhost:8080/"
        },
        "id": "icIgq27yKRDr",
        "outputId": "b054779b-1e59-48d5-ba58-f7171582a9c7"
      },
      "execution_count": null,
      "outputs": [
        {
          "output_type": "stream",
          "name": "stdout",
          "text": [
            "The Number is Positive\n",
            "The Number is Negative\n"
          ]
        }
      ]
    },
    {
      "cell_type": "code",
      "source": [
        "num1 = 1\n",
        "num2 = -1\n",
        "\n",
        "print(num1 > 0)\n",
        "print(num2 > 0)\n",
        "print(num1 > 0 and num2 > 0)\n",
        "num2 = 1\n",
        "print(num1 > 0 and num2 > 0)"
      ],
      "metadata": {
        "colab": {
          "base_uri": "https://localhost:8080/"
        },
        "id": "vh8TtKo0MGOa",
        "outputId": "0a77e361-6438-40ce-a5d4-d24ce6f0e382"
      },
      "execution_count": null,
      "outputs": [
        {
          "output_type": "stream",
          "name": "stdout",
          "text": [
            "True\n",
            "False\n",
            "False\n",
            "True\n"
          ]
        }
      ]
    },
    {
      "cell_type": "code",
      "source": [
        "a = 1\n",
        "b = 2\n",
        "check = a < b\n",
        "if check == True:\n",
        "  print(True)"
      ],
      "metadata": {
        "colab": {
          "base_uri": "https://localhost:8080/"
        },
        "id": "G7orIa3zMiD2",
        "outputId": "63aa2e64-1257-4952-df57-785b9c4a8e5e"
      },
      "execution_count": null,
      "outputs": [
        {
          "output_type": "stream",
          "name": "stdout",
          "text": [
            "True\n"
          ]
        }
      ]
    },
    {
      "cell_type": "code",
      "source": [
        "import random as rng\n",
        "num = []\n",
        "for x in range(10):\n",
        "  num.append(rng.randrange(0,5))\n",
        "print(num)"
      ],
      "metadata": {
        "colab": {
          "base_uri": "https://localhost:8080/"
        },
        "id": "LehMTMGVM8RF",
        "outputId": "00b29103-fa93-4ef7-bea1-ae3fe840b0ab"
      },
      "execution_count": null,
      "outputs": [
        {
          "output_type": "stream",
          "name": "stdout",
          "text": [
            "[3, 3, 2, 0, 3, 1, 4, 1, 3, 2]\n"
          ]
        }
      ]
    },
    {
      "cell_type": "code",
      "source": [
        "import asyncio\n",
        "\n",
        "async def main():\n",
        "    print(\"Hello\")\n",
        "    await asyncio.sleep(1)\n",
        "    print(\"Goodbye\")\n",
        "    await asyncio.sleep(1)\n",
        "\n",
        "loop = asyncio.get_running_loop()\n",
        "await loop.create_task(main())"
      ],
      "metadata": {
        "colab": {
          "base_uri": "https://localhost:8080/"
        },
        "id": "hGWrL_HgR9TF",
        "outputId": "53614eb3-f010-49bd-9a7d-5e7d763155ee"
      },
      "execution_count": null,
      "outputs": [
        {
          "output_type": "stream",
          "name": "stdout",
          "text": [
            "Hello\n",
            "Goodbye\n"
          ]
        }
      ]
    },
    {
      "cell_type": "code",
      "source": [
        "time = 4\n",
        "\n",
        "assert time == 4\n",
        "assert time == 5"
      ],
      "metadata": {
        "colab": {
          "base_uri": "https://localhost:8080/",
          "height": 176
        },
        "id": "gpg6XfUQNwGl",
        "outputId": "25332d84-f53f-42cb-df24-45ec483562cc"
      },
      "execution_count": null,
      "outputs": [
        {
          "output_type": "error",
          "ename": "AssertionError",
          "evalue": "",
          "traceback": [
            "\u001b[0;31m---------------------------------------------------------------------------\u001b[0m",
            "\u001b[0;31mAssertionError\u001b[0m                            Traceback (most recent call last)",
            "\u001b[0;32m<ipython-input-47-e92648f7b3df>\u001b[0m in \u001b[0;36m<cell line: 4>\u001b[0;34m()\u001b[0m\n\u001b[1;32m      2\u001b[0m \u001b[0;34m\u001b[0m\u001b[0m\n\u001b[1;32m      3\u001b[0m \u001b[0;32massert\u001b[0m \u001b[0mtime\u001b[0m \u001b[0;34m==\u001b[0m \u001b[0;36m4\u001b[0m\u001b[0;34m\u001b[0m\u001b[0;34m\u001b[0m\u001b[0m\n\u001b[0;32m----> 4\u001b[0;31m \u001b[0;32massert\u001b[0m \u001b[0mtime\u001b[0m \u001b[0;34m==\u001b[0m \u001b[0;36m5\u001b[0m\u001b[0;34m\u001b[0m\u001b[0;34m\u001b[0m\u001b[0m\n\u001b[0m",
            "\u001b[0;31mAssertionError\u001b[0m: "
          ]
        }
      ]
    },
    {
      "cell_type": "code",
      "source": [
        "for x in range(140):\n",
        "  if x == 7:\n",
        "    break\n",
        "  else:\n",
        "    print(x)"
      ],
      "metadata": {
        "colab": {
          "base_uri": "https://localhost:8080/"
        },
        "id": "J1fk1yaqRrjI",
        "outputId": "704031d0-1c31-4c91-eb13-46efebacaaa8"
      },
      "execution_count": null,
      "outputs": [
        {
          "output_type": "stream",
          "name": "stdout",
          "text": [
            "0\n",
            "1\n",
            "2\n",
            "3\n",
            "4\n",
            "5\n",
            "6\n"
          ]
        }
      ]
    },
    {
      "cell_type": "code",
      "source": [
        "import asyncio\n",
        "\n",
        "async def main():\n",
        "    for x in range(20):\n",
        "      print(f\"{x} second\")\n",
        "      await asyncio.sleep(1)\n",
        "\n",
        "loop = asyncio.get_running_loop()\n",
        "await loop.create_task(main())"
      ],
      "metadata": {
        "colab": {
          "base_uri": "https://localhost:8080/"
        },
        "id": "mePrrfEtSqva",
        "outputId": "09e3535e-a6b5-4550-edc9-90c97ccf23da"
      },
      "execution_count": null,
      "outputs": [
        {
          "output_type": "stream",
          "name": "stdout",
          "text": [
            "0 second\n",
            "1 second\n",
            "2 second\n",
            "3 second\n",
            "4 second\n",
            "5 second\n",
            "6 second\n",
            "7 second\n",
            "8 second\n",
            "9 second\n",
            "10 second\n",
            "11 second\n",
            "12 second\n",
            "13 second\n",
            "14 second\n",
            "15 second\n",
            "16 second\n",
            "17 second\n",
            "18 second\n",
            "19 second\n"
          ]
        }
      ]
    },
    {
      "cell_type": "code",
      "source": [
        "#print only even numbers\n",
        "for x in range(10):\n",
        "  if x % 2 != 0:\n",
        "    continue\n",
        "  else:\n",
        "    print(x)"
      ],
      "metadata": {
        "colab": {
          "base_uri": "https://localhost:8080/"
        },
        "id": "aGbjrggUTDUJ",
        "outputId": "a6ae47cf-96f6-4a59-d48b-f92a4ade9d6b"
      },
      "execution_count": null,
      "outputs": [
        {
          "output_type": "stream",
          "name": "stdout",
          "text": [
            "0\n",
            "2\n",
            "4\n",
            "6\n",
            "8\n"
          ]
        }
      ]
    },
    {
      "cell_type": "code",
      "source": [
        "class time:\n",
        "  def __init__(self, hour, seconds):\n",
        "    self.hour = hour\n",
        "    self.seconds = seconds\n",
        "\n",
        "  def print(self):\n",
        "    print(f\"It is {self.hour}:{self.seconds}.\")\n",
        "\n",
        "time = time(3, 17)\n",
        "time.print()"
      ],
      "metadata": {
        "colab": {
          "base_uri": "https://localhost:8080/"
        },
        "id": "Oeq_ET66T2UY",
        "outputId": "bd62048f-3465-4bae-a2f5-46db888d9c1e"
      },
      "execution_count": null,
      "outputs": [
        {
          "output_type": "stream",
          "name": "stdout",
          "text": [
            "It is 3:17.\n"
          ]
        }
      ]
    },
    {
      "cell_type": "code",
      "source": [
        "def name(first, last):\n",
        "  print(f\"Hello, my name is {first} {last}!\")\n",
        "\n",
        "name(\"John\", \"Doe\")\n",
        "name(\"Mario\", \"Mario\")\n",
        "name(\"Luigi\", \"Mario\")"
      ],
      "metadata": {
        "colab": {
          "base_uri": "https://localhost:8080/"
        },
        "id": "9zrDqV3QUoC6",
        "outputId": "93283181-d40e-4a4f-aad3-b96d133cad10"
      },
      "execution_count": null,
      "outputs": [
        {
          "output_type": "stream",
          "name": "stdout",
          "text": [
            "Hello, my name is John Doe!\n",
            "Hello, my name is Mario Mario!\n",
            "Hello, my name is Luigi Mario!\n"
          ]
        }
      ]
    },
    {
      "cell_type": "code",
      "source": [
        "def calc(weekday, holiday):\n",
        "  if holiday == True:\n",
        "    print('It is not a school day')\n",
        "  elif weekday == True:\n",
        "    print('It is not a school day')\n",
        "  else:\n",
        "    print('It is a school day')\n",
        "\n",
        "calc(False, True)\n",
        "calc(True, True)\n",
        "calc(True, False)\n",
        "calc(False, False)"
      ],
      "metadata": {
        "colab": {
          "base_uri": "https://localhost:8080/"
        },
        "id": "WVEWdnlRVD2-",
        "outputId": "05987ce8-2944-474f-f423-3b5321174f16"
      },
      "execution_count": null,
      "outputs": [
        {
          "output_type": "stream",
          "name": "stdout",
          "text": [
            "It is not a school day\n",
            "It is not a school day\n",
            "It is not a school day\n",
            "It is a school day\n"
          ]
        }
      ]
    },
    {
      "cell_type": "code",
      "source": [
        "days = ['mercury', 'venus', 'earth', 'mars',\n",
        "        'jupiter', 'saturn', 'uranus', 'neptune', 'pluto']\n",
        "print(days)\n",
        "\n",
        "del days[8]\n",
        "\n",
        "print(days)"
      ],
      "metadata": {
        "colab": {
          "base_uri": "https://localhost:8080/"
        },
        "id": "Tx-3UpQXWTpc",
        "outputId": "0d5672cc-02a4-4b0d-b8ee-59311cde4005"
      },
      "execution_count": null,
      "outputs": [
        {
          "output_type": "stream",
          "name": "stdout",
          "text": [
            "['mercury', 'venus', 'earth', 'mars', 'jupiter', 'saturn', 'uranus', 'neptune', 'pluto']\n",
            "['mercury', 'venus', 'earth', 'mars', 'jupiter', 'saturn', 'uranus', 'neptune']\n"
          ]
        }
      ]
    },
    {
      "cell_type": "code",
      "source": [
        "name = \"Kevin\"\n",
        "\n",
        "try:\n",
        "  name > 3\n",
        "except NameError:\n",
        "  print(\"You have a variable that is not defined.\")\n",
        "except TypeError:\n",
        "  print(\"You are comparing values of different type\")"
      ],
      "metadata": {
        "colab": {
          "base_uri": "https://localhost:8080/"
        },
        "id": "pfl8RdjuXBKQ",
        "outputId": "0500238d-5aaa-4628-959e-a4ba1089a7ad"
      },
      "execution_count": null,
      "outputs": [
        {
          "output_type": "stream",
          "name": "stdout",
          "text": [
            "You are comparing values of different type\n"
          ]
        }
      ]
    },
    {
      "cell_type": "code",
      "source": [
        "if 9 < 8:\n",
        "  print(\"8 is greater than 9\")\n",
        "else:\n",
        "  print(\"9 is greater than 8\")"
      ],
      "metadata": {
        "colab": {
          "base_uri": "https://localhost:8080/"
        },
        "id": "_7L94rTzXng4",
        "outputId": "a74597c6-4377-4389-d96b-1acc52ea14c7"
      },
      "execution_count": null,
      "outputs": [
        {
          "output_type": "stream",
          "name": "stdout",
          "text": [
            "9 is greater than 8\n"
          ]
        }
      ]
    },
    {
      "cell_type": "code",
      "source": [
        "for x in range(7, 16):\n",
        "  print(x)"
      ],
      "metadata": {
        "colab": {
          "base_uri": "https://localhost:8080/"
        },
        "id": "d9lucb0KX2WI",
        "outputId": "f2276d6d-f166-4463-cac1-320337ac995e"
      },
      "execution_count": null,
      "outputs": [
        {
          "output_type": "stream",
          "name": "stdout",
          "text": [
            "7\n",
            "8\n",
            "9\n",
            "10\n",
            "11\n",
            "12\n",
            "13\n",
            "14\n",
            "15\n"
          ]
        }
      ]
    },
    {
      "cell_type": "code",
      "source": [
        "try:\n",
        "  x > 3\n",
        "except:\n",
        "  print(\"Something went wrong\")\n",
        "else:\n",
        "  print(\"Nothing went wrong\")\n",
        "finally:\n",
        "  print(\"The try block is finished\")"
      ],
      "metadata": {
        "colab": {
          "base_uri": "https://localhost:8080/"
        },
        "id": "bndvX50-YALu",
        "outputId": "79ed7a56-da84-4f1f-cb5b-9d6a5eb17f18"
      },
      "execution_count": null,
      "outputs": [
        {
          "output_type": "stream",
          "name": "stdout",
          "text": [
            "Nothing went wrong\n",
            "The try block is finished\n"
          ]
        }
      ]
    },
    {
      "cell_type": "code",
      "source": [
        "from datetime import date\n",
        "\n",
        "date = date(2018, 5, 14)\n",
        "print(date)"
      ],
      "metadata": {
        "colab": {
          "base_uri": "https://localhost:8080/"
        },
        "id": "dJcg-vNhYP6t",
        "outputId": "cc2cab06-972d-446c-dc95-562c68bd9c01"
      },
      "execution_count": null,
      "outputs": [
        {
          "output_type": "stream",
          "name": "stdout",
          "text": [
            "2018-05-14\n"
          ]
        }
      ]
    },
    {
      "cell_type": "code",
      "source": [
        "x = 7\n",
        "if x == 7:\n",
        "  print(\"The number is 7\")\n"
      ],
      "metadata": {
        "colab": {
          "base_uri": "https://localhost:8080/"
        },
        "id": "Cn0E9PTNZDls",
        "outputId": "9489d720-fa6e-4ade-cf4b-4358efbb3381"
      },
      "execution_count": null,
      "outputs": [
        {
          "output_type": "stream",
          "name": "stdout",
          "text": [
            "The number is 7\n"
          ]
        }
      ]
    },
    {
      "cell_type": "code",
      "source": [
        "x = \"five\"\n",
        "def fun():\n",
        "  global x\n",
        "  x = \"seven\"\n",
        "\n",
        "print(x)\n",
        "fun()\n",
        "print(x)"
      ],
      "metadata": {
        "colab": {
          "base_uri": "https://localhost:8080/"
        },
        "id": "mbe0VqFNZOSe",
        "outputId": "5b96a662-76fb-4e42-d1af-236817007b35"
      },
      "execution_count": null,
      "outputs": [
        {
          "output_type": "stream",
          "name": "stdout",
          "text": [
            "five\n",
            "seven\n"
          ]
        }
      ]
    },
    {
      "cell_type": "code",
      "source": [
        "names = [\"Alice\", \"Bob\", \"Charlie\", \"Diana\", \"Eve\"]\n",
        "\n",
        "for name in names:\n",
        "  print(f\"Hello {name}\")"
      ],
      "metadata": {
        "colab": {
          "base_uri": "https://localhost:8080/"
        },
        "id": "OI5uJ-6maPZF",
        "outputId": "776c92bc-e1e0-4a71-9af8-ddecc1d5ddc7"
      },
      "execution_count": null,
      "outputs": [
        {
          "output_type": "stream",
          "name": "stdout",
          "text": [
            "Hello Alice\n",
            "Hello Bob\n",
            "Hello Charlie\n",
            "Hello Diana\n",
            "Hello Eve\n"
          ]
        }
      ]
    },
    {
      "cell_type": "code",
      "source": [
        "import platform\n",
        "\n",
        "x = platform.system()\n",
        "print(x)"
      ],
      "metadata": {
        "colab": {
          "base_uri": "https://localhost:8080/"
        },
        "id": "kq8JsIdzaj1B",
        "outputId": "d108b581-88c4-46e8-a202-bf9654d9d2f1"
      },
      "execution_count": null,
      "outputs": [
        {
          "output_type": "stream",
          "name": "stdout",
          "text": [
            "Linux\n"
          ]
        }
      ]
    },
    {
      "cell_type": "code",
      "source": [
        "num = lambda a, b: a**b\n",
        "print(num(3,4))\n",
        "print(num(2,4))"
      ],
      "metadata": {
        "colab": {
          "base_uri": "https://localhost:8080/"
        },
        "id": "b8mCicNaa7ya",
        "outputId": "363af3cc-1aa5-42c0-b436-feca0192ae19"
      },
      "execution_count": null,
      "outputs": [
        {
          "output_type": "stream",
          "name": "stdout",
          "text": [
            "81\n",
            "16\n"
          ]
        }
      ]
    },
    {
      "cell_type": "code",
      "source": [
        "var1 = \"Dave\"\n",
        "var2 = \"Tim\"\n",
        "var3 = \"Dave\"\n",
        "\n",
        "print(var1 is var2)\n",
        "print(var2 is var3)\n",
        "print(var1 is var3)"
      ],
      "metadata": {
        "colab": {
          "base_uri": "https://localhost:8080/"
        },
        "id": "vh0TOVY8BrsM",
        "outputId": "403ac6e8-d05e-4964-c9f7-e6e2ab34ed12"
      },
      "execution_count": 1,
      "outputs": [
        {
          "output_type": "stream",
          "name": "stdout",
          "text": [
            "False\n",
            "False\n",
            "True\n"
          ]
        }
      ]
    },
    {
      "cell_type": "code",
      "source": [
        "def name():\n",
        "  x = \"Tim\"\n",
        "  def name2():\n",
        "    nonlocal x\n",
        "    x = \"Tom\"\n",
        "  name2()\n",
        "  return x\n",
        "\n",
        "print(name())"
      ],
      "metadata": {
        "colab": {
          "base_uri": "https://localhost:8080/"
        },
        "id": "vQPb2hkaB8Bb",
        "outputId": "ca645dbb-6ea5-479d-c6e1-780a91aaadc6"
      },
      "execution_count": 2,
      "outputs": [
        {
          "output_type": "stream",
          "name": "stdout",
          "text": [
            "Tom\n"
          ]
        }
      ]
    },
    {
      "cell_type": "code",
      "source": [
        "x = False\n",
        "\n",
        "print(not x)"
      ],
      "metadata": {
        "colab": {
          "base_uri": "https://localhost:8080/"
        },
        "id": "zAiU63c4Cjdf",
        "outputId": "4b181a5c-ceef-4cbd-a2c7-02e55d9d9e32"
      },
      "execution_count": 3,
      "outputs": [
        {
          "output_type": "stream",
          "name": "stdout",
          "text": [
            "True\n"
          ]
        }
      ]
    },
    {
      "cell_type": "code",
      "source": [
        "if(9 < 0 or 1 == 1):\n",
        "  print(True)"
      ],
      "metadata": {
        "colab": {
          "base_uri": "https://localhost:8080/"
        },
        "id": "oaxEa10oC797",
        "outputId": "27cfb728-2e06-45c5-b47a-8ac812ab2e18"
      },
      "execution_count": 4,
      "outputs": [
        {
          "output_type": "stream",
          "name": "stdout",
          "text": [
            "True\n"
          ]
        }
      ]
    },
    {
      "cell_type": "code",
      "source": [
        "x = \"hello\"\n",
        "\n",
        "if not type(x) is int:\n",
        "  raise TypeError(\"Only integers allowed\")"
      ],
      "metadata": {
        "colab": {
          "base_uri": "https://localhost:8080/",
          "height": 176
        },
        "id": "pq3WXrZuDYv5",
        "outputId": "84c8fd74-ec01-4493-d5f5-ad8b77616328"
      },
      "execution_count": 5,
      "outputs": [
        {
          "output_type": "error",
          "ename": "TypeError",
          "evalue": "Only integers allowed",
          "traceback": [
            "\u001b[0;31m---------------------------------------------------------------------------\u001b[0m",
            "\u001b[0;31mTypeError\u001b[0m                                 Traceback (most recent call last)",
            "\u001b[0;32m<ipython-input-5-c91caea98150>\u001b[0m in \u001b[0;36m<cell line: 3>\u001b[0;34m()\u001b[0m\n\u001b[1;32m      2\u001b[0m \u001b[0;34m\u001b[0m\u001b[0m\n\u001b[1;32m      3\u001b[0m \u001b[0;32mif\u001b[0m \u001b[0;32mnot\u001b[0m \u001b[0mtype\u001b[0m\u001b[0;34m(\u001b[0m\u001b[0mx\u001b[0m\u001b[0;34m)\u001b[0m \u001b[0;32mis\u001b[0m \u001b[0mint\u001b[0m\u001b[0;34m:\u001b[0m\u001b[0;34m\u001b[0m\u001b[0;34m\u001b[0m\u001b[0m\n\u001b[0;32m----> 4\u001b[0;31m   \u001b[0;32mraise\u001b[0m \u001b[0mTypeError\u001b[0m\u001b[0;34m(\u001b[0m\u001b[0;34m\"Only integers allowed\"\u001b[0m\u001b[0;34m)\u001b[0m\u001b[0;34m\u001b[0m\u001b[0;34m\u001b[0m\u001b[0m\n\u001b[0m",
            "\u001b[0;31mTypeError\u001b[0m: Only integers allowed"
          ]
        }
      ]
    },
    {
      "cell_type": "code",
      "source": [
        "for x in range(40):\n",
        "  pass"
      ],
      "metadata": {
        "id": "nZN02_QvDeh7"
      },
      "execution_count": 6,
      "outputs": []
    },
    {
      "cell_type": "code",
      "source": [
        "try:\n",
        "  name > 3\n",
        "except TypeError:\n",
        "  print(\"You are comparing values of different type\")"
      ],
      "metadata": {
        "colab": {
          "base_uri": "https://localhost:8080/"
        },
        "id": "fWTNUIVrDp0_",
        "outputId": "6bae22b8-21d0-4289-fde6-df3c5d262a40"
      },
      "execution_count": 8,
      "outputs": [
        {
          "output_type": "stream",
          "name": "stdout",
          "text": [
            "You are comparing values of different type\n"
          ]
        }
      ]
    },
    {
      "cell_type": "code",
      "source": [
        "def num():\n",
        "  x = 10\n",
        "  y = 15\n",
        "  return(x+y)\n",
        "\n",
        "print(num())"
      ],
      "metadata": {
        "colab": {
          "base_uri": "https://localhost:8080/"
        },
        "id": "Nk1xa5e7EIs4",
        "outputId": "7145dfd6-89ba-4d9d-a6a6-aa0d59ac81d5"
      },
      "execution_count": 9,
      "outputs": [
        {
          "output_type": "stream",
          "name": "stdout",
          "text": [
            "25\n"
          ]
        }
      ]
    },
    {
      "cell_type": "code",
      "source": [
        "x = 0\n",
        "while x < 10:\n",
        "  print(x)\n",
        "  x += 1"
      ],
      "metadata": {
        "colab": {
          "base_uri": "https://localhost:8080/"
        },
        "id": "bHrcXXP1EXMf",
        "outputId": "f0d52dbb-181b-4f91-a54b-1515f75a7ce8"
      },
      "execution_count": 10,
      "outputs": [
        {
          "output_type": "stream",
          "name": "stdout",
          "text": [
            "0\n",
            "1\n",
            "2\n",
            "3\n",
            "4\n",
            "5\n",
            "6\n",
            "7\n",
            "8\n",
            "9\n"
          ]
        }
      ]
    },
    {
      "cell_type": "code",
      "source": [
        "with open('example.txt', 'w') as file:\n",
        "    file.write('Hello, world!')"
      ],
      "metadata": {
        "id": "N1XlH5ikFBNI"
      },
      "execution_count": 14,
      "outputs": []
    },
    {
      "cell_type": "code",
      "source": [
        "def func():\n",
        "  yield 7\n",
        "  yield 10\n",
        "  yield \"Tim\"\n",
        "\n",
        "for value in func():\n",
        "  print(value)"
      ],
      "metadata": {
        "colab": {
          "base_uri": "https://localhost:8080/"
        },
        "id": "BATLo2z1GJWa",
        "outputId": "a0163d61-82e7-4e96-9460-8d78d34546b9"
      },
      "execution_count": 16,
      "outputs": [
        {
          "output_type": "stream",
          "name": "stdout",
          "text": [
            "7\n",
            "10\n",
            "Tim\n"
          ]
        }
      ]
    }
  ]
}