{
  "nbformat": 4,
  "nbformat_minor": 0,
  "metadata": {
    "colab": {
      "provenance": [],
      "authorship_tag": "ABX9TyPLURNDtuPYpCwkCoCcsvpX",
      "include_colab_link": true
    },
    "kernelspec": {
      "name": "python3",
      "display_name": "Python 3"
    },
    "language_info": {
      "name": "python"
    }
  },
  "cells": [
    {
      "cell_type": "markdown",
      "metadata": {
        "id": "view-in-github",
        "colab_type": "text"
      },
      "source": [
        "<a href=\"https://colab.research.google.com/github/kli007/CSC221_kli007/blob/main/Assignment4.ipynb\" target=\"_parent\"><img src=\"https://colab.research.google.com/assets/colab-badge.svg\" alt=\"Open In Colab\"/></a>"
      ]
    },
    {
      "cell_type": "code",
      "execution_count": 10,
      "metadata": {
        "colab": {
          "base_uri": "https://localhost:8080/"
        },
        "id": "AiCLSdez5T5T",
        "outputId": "b4dfe484-fe48-481a-c08b-3b4409a03708"
      },
      "outputs": [
        {
          "output_type": "stream",
          "name": "stdout",
          "text": [
            "Tiffany\n",
            "Micheal\n",
            "Ben\n",
            "Issac\n"
          ]
        }
      ],
      "source": [
        "#3-1\n",
        "names=['Tiffany', 'Micheal', 'Ben', 'Issac']\n",
        "for x in range(4):\n",
        "  print(names[x])"
      ]
    },
    {
      "cell_type": "code",
      "source": [
        "#3-2\n",
        "names=['Hey, Tiffany', \"What's up, Micheal\", 'Sup, Ben', 'Bye, Issac']\n",
        "for x in range(4):\n",
        "  print(names[x])"
      ],
      "metadata": {
        "colab": {
          "base_uri": "https://localhost:8080/"
        },
        "id": "GJBRBeox6IuH",
        "outputId": "a9474183-b8ae-4f61-d0c6-61b9f72c2b11"
      },
      "execution_count": 9,
      "outputs": [
        {
          "output_type": "stream",
          "name": "stdout",
          "text": [
            "Hey, Tiffany\n",
            "What's up, Micheal\n",
            "Sup, Ben\n",
            "Bye, Issac\n"
          ]
        }
      ]
    },
    {
      "cell_type": "code",
      "source": [
        "#3-3\n",
        "vehicles=['Car', 'Motorcycle', 'Jet', 'Helicopter', 'Snowmobile', 'Truck', 'Jetski']\n",
        "for x in range(7):\n",
        "  print(f'I would like to own a {vehicles[x]}')"
      ],
      "metadata": {
        "colab": {
          "base_uri": "https://localhost:8080/"
        },
        "id": "AydkqsvC6gPI",
        "outputId": "9d127781-a412-4e89-93e8-18df72bcb02f"
      },
      "execution_count": 8,
      "outputs": [
        {
          "output_type": "stream",
          "name": "stdout",
          "text": [
            "I would like to own a Car\n",
            "I would like to own a Motorcycle\n",
            "I would like to own a Jet\n",
            "I would like to own a Helicopter\n",
            "I would like to own a Snowmobile\n",
            "I would like to own a Truck\n",
            "I would like to own a Jetski\n"
          ]
        }
      ]
    },
    {
      "cell_type": "code",
      "source": [
        "#3-4\n",
        "guests=['Mother', 'Father', 'Tiffany', 'Aunt']\n",
        "for x in range(len(guests)):\n",
        "  print(f'Hello {guests[x]}, you are being formally invited to a dinner.')"
      ],
      "metadata": {
        "colab": {
          "base_uri": "https://localhost:8080/"
        },
        "id": "3mjZJb00768A",
        "outputId": "82104703-165f-45a5-913e-a686ad86dd2f"
      },
      "execution_count": 12,
      "outputs": [
        {
          "output_type": "stream",
          "name": "stdout",
          "text": [
            "Hello Mother, you are being formally invited to a dinner.\n",
            "Hello Father, you are being formally invited to a dinner.\n",
            "Hello Tiffany, you are being formally invited to a dinner.\n",
            "Hello Aunt, you are being formally invited to a dinner.\n"
          ]
        }
      ]
    },
    {
      "cell_type": "code",
      "source": [
        "#3-5\n",
        "guests=['Mother', 'Father', 'Tiffany', 'Aunt']\n",
        "print(guests[3])\n",
        "del guests[3]\n",
        "guests.append('Uncle')\n",
        "for x in range(len(guests)):\n",
        "  print(f'Hello {guests[x]}, you are being formally invited to a dinner.')"
      ],
      "metadata": {
        "colab": {
          "base_uri": "https://localhost:8080/"
        },
        "id": "yhGCa-hM8430",
        "outputId": "8b11a667-ca90-4590-b255-afd719fa566e"
      },
      "execution_count": 13,
      "outputs": [
        {
          "output_type": "stream",
          "name": "stdout",
          "text": [
            "Aunt\n",
            "Hello Mother, you are being formally invited to a dinner.\n",
            "Hello Father, you are being formally invited to a dinner.\n",
            "Hello Tiffany, you are being formally invited to a dinner.\n",
            "Hello Uncle, you are being formally invited to a dinner.\n"
          ]
        }
      ]
    },
    {
      "cell_type": "code",
      "source": [
        "#3-6\n",
        "guests=['Mother', 'Father', 'Tiffany', 'Aunt']\n",
        "print(guests[3])\n",
        "del guests[3]\n",
        "guests.append('Uncle')\n",
        "for x in range(len(guests)):\n",
        "  print(f'Hello {guests[x]}, you are being formally invited to a dinner.')\n",
        "print('Everyone, we have found a bigger table!')\n",
        "guests.insert(0, 'John')\n",
        "guests.insert(2, 'Tim')\n",
        "guests.append('Samantha')\n",
        "for x in range(len(guests)):\n",
        "  print(f'Hello {guests[x]}, you are being formally invited to a dinner.')"
      ],
      "metadata": {
        "colab": {
          "base_uri": "https://localhost:8080/"
        },
        "id": "LyhQ6ubN9-CP",
        "outputId": "43344db3-4631-489b-8e5a-f23f7efa0d7f"
      },
      "execution_count": 14,
      "outputs": [
        {
          "output_type": "stream",
          "name": "stdout",
          "text": [
            "Aunt\n",
            "Hello Mother, you are being formally invited to a dinner.\n",
            "Hello Father, you are being formally invited to a dinner.\n",
            "Hello Tiffany, you are being formally invited to a dinner.\n",
            "Hello Uncle, you are being formally invited to a dinner.\n",
            "Everyone, we have found a bigger table!\n",
            "Hello John, you are being formally invited to a dinner.\n",
            "Hello Mother, you are being formally invited to a dinner.\n",
            "Hello Tim, you are being formally invited to a dinner.\n",
            "Hello Father, you are being formally invited to a dinner.\n",
            "Hello Tiffany, you are being formally invited to a dinner.\n",
            "Hello Uncle, you are being formally invited to a dinner.\n",
            "Hello Samantha, you are being formally invited to a dinner.\n"
          ]
        }
      ]
    },
    {
      "cell_type": "code",
      "source": [
        "#3-7\n",
        "guests=['Mother', 'Father', 'Tiffany', 'Aunt']\n",
        "print(guests[3])\n",
        "del guests[3]\n",
        "guests.append('Uncle')\n",
        "for x in range(len(guests)):\n",
        "  print(f'Hello {guests[x]}, you are being formally invited to a dinner.')\n",
        "print('Everyone, we have found a bigger table!')\n",
        "guests.insert(0, 'John')\n",
        "guests.insert(2, 'Tim')\n",
        "guests.append('Samantha')\n",
        "for x in range(len(guests)):\n",
        "  print(f'Hello {guests[x]}, you are being formally invited to a dinner.')\n",
        "print(\"Everyone, the table won't arrive so we can only invite two of you\")\n",
        "while(len(guests)>2):\n",
        "  delete=guests.pop(0)\n",
        "  print(f\"Sorry {delete}, you can't come to the dinner\")\n",
        "for x in range(len(guests)):\n",
        "  print(f'Hello {guests[x]}, you are still invited to the dinner.')\n",
        "print(guests)"
      ],
      "metadata": {
        "colab": {
          "base_uri": "https://localhost:8080/"
        },
        "id": "NbBM0mpu-np2",
        "outputId": "15e80a7d-cf21-44a2-f9b0-663ec5e94ed0"
      },
      "execution_count": 18,
      "outputs": [
        {
          "output_type": "stream",
          "name": "stdout",
          "text": [
            "Aunt\n",
            "Hello Mother, you are being formally invited to a dinner.\n",
            "Hello Father, you are being formally invited to a dinner.\n",
            "Hello Tiffany, you are being formally invited to a dinner.\n",
            "Hello Uncle, you are being formally invited to a dinner.\n",
            "Everyone, we have found a bigger table!\n",
            "Hello John, you are being formally invited to a dinner.\n",
            "Hello Mother, you are being formally invited to a dinner.\n",
            "Hello Tim, you are being formally invited to a dinner.\n",
            "Hello Father, you are being formally invited to a dinner.\n",
            "Hello Tiffany, you are being formally invited to a dinner.\n",
            "Hello Uncle, you are being formally invited to a dinner.\n",
            "Hello Samantha, you are being formally invited to a dinner.\n",
            "Everyone, the table won't arrive so we can only invite two of you\n",
            "Sorry John, you can't come to the dinner\n",
            "Sorry Mother, you can't come to the dinner\n",
            "Sorry Tim, you can't come to the dinner\n",
            "Sorry Father, you can't come to the dinner\n",
            "Sorry Tiffany, you can't come to the dinner\n",
            "Hello Uncle, you are still invited to the dinner.\n",
            "Hello Samantha, you are still invited to the dinner.\n",
            "['Uncle', 'Samantha']\n"
          ]
        }
      ]
    },
    {
      "cell_type": "code",
      "source": [
        "#3-8\n",
        "locations=['Tokyo', 'Paris', 'Disney World', 'Anartica', 'Australia']\n",
        "print(locations)\n",
        "print(sorted(locations))\n",
        "print(locations)\n",
        "locations.reverse()\n",
        "print(locations)\n",
        "locations.reverse()\n",
        "print(locations)\n",
        "locations.sort()\n",
        "print(locations)\n",
        "locations.sort(reverse=True)\n",
        "print(locations)"
      ],
      "metadata": {
        "colab": {
          "base_uri": "https://localhost:8080/"
        },
        "id": "pL0-0bN_Ae0N",
        "outputId": "b88ba463-9ad8-4fe2-f42c-6c8640aaac99"
      },
      "execution_count": 26,
      "outputs": [
        {
          "output_type": "stream",
          "name": "stdout",
          "text": [
            "['Tokyo', 'Paris', 'Disney World', 'Anartica', 'Australia']\n",
            "['Anartica', 'Australia', 'Disney World', 'Paris', 'Tokyo']\n",
            "['Tokyo', 'Paris', 'Disney World', 'Anartica', 'Australia']\n",
            "['Australia', 'Anartica', 'Disney World', 'Paris', 'Tokyo']\n",
            "['Tokyo', 'Paris', 'Disney World', 'Anartica', 'Australia']\n",
            "['Anartica', 'Australia', 'Disney World', 'Paris', 'Tokyo']\n",
            "['Tokyo', 'Paris', 'Disney World', 'Australia', 'Anartica']\n"
          ]
        }
      ]
    },
    {
      "cell_type": "code",
      "source": [
        "#3-9\n",
        "guests=['Mother', 'Father', 'Tiffany', 'Aunt']\n",
        "print(guests[3])\n",
        "del guests[3]\n",
        "guests.append('Uncle')\n",
        "for x in range(len(guests)):\n",
        "  print(f'Hello {guests[x]}, you are being formally invited to a dinner.')\n",
        "print('Everyone, we have found a bigger table!')\n",
        "guests.insert(0, 'John')\n",
        "guests.insert(2, 'Tim')\n",
        "guests.append('Samantha')\n",
        "for x in range(len(guests)):\n",
        "  print(f'Hello {guests[x]}, you are being formally invited to a dinner.')\n",
        "print(f\"I'm inviting {len(guests)} people to the party\")"
      ],
      "metadata": {
        "colab": {
          "base_uri": "https://localhost:8080/"
        },
        "id": "dU66dFrSComp",
        "outputId": "460523b3-cb3a-400a-c3a0-af427fc3b97f"
      },
      "execution_count": 27,
      "outputs": [
        {
          "output_type": "stream",
          "name": "stdout",
          "text": [
            "Aunt\n",
            "Hello Mother, you are being formally invited to a dinner.\n",
            "Hello Father, you are being formally invited to a dinner.\n",
            "Hello Tiffany, you are being formally invited to a dinner.\n",
            "Hello Uncle, you are being formally invited to a dinner.\n",
            "Everyone, we have found a bigger table!\n",
            "Hello John, you are being formally invited to a dinner.\n",
            "Hello Mother, you are being formally invited to a dinner.\n",
            "Hello Tim, you are being formally invited to a dinner.\n",
            "Hello Father, you are being formally invited to a dinner.\n",
            "Hello Tiffany, you are being formally invited to a dinner.\n",
            "Hello Uncle, you are being formally invited to a dinner.\n",
            "Hello Samantha, you are being formally invited to a dinner.\n",
            "I'm inviting 7 people to the party\n"
          ]
        }
      ]
    },
    {
      "cell_type": "code",
      "source": [
        "#3-10\n",
        "lists=['Kevin', 'Games', 'Star Wars', 'Anime', 'Britain', '2024', 'Tennis']\n",
        "print(lists)\n",
        "lists.append('Hug')\n",
        "print(lists)\n",
        "lists.insert(0,'Sun')\n",
        "print(lists)\n",
        "del lists[4]\n",
        "print(lists)\n",
        "lists.pop(3)\n",
        "print(lists)\n",
        "lists.sort()\n",
        "print(lists)\n",
        "lists.reverse()\n",
        "print(lists)"
      ],
      "metadata": {
        "colab": {
          "base_uri": "https://localhost:8080/"
        },
        "id": "FMwx3zYUDAcN",
        "outputId": "3f4b261c-9f35-402e-e7c2-c6a0b8f77ea1"
      },
      "execution_count": 31,
      "outputs": [
        {
          "output_type": "stream",
          "name": "stdout",
          "text": [
            "['Kevin', 'Games', 'Star Wars', 'Anime', 'Britain', '2024', 'Tennis']\n",
            "['Kevin', 'Games', 'Star Wars', 'Anime', 'Britain', '2024', 'Tennis', 'Hug']\n",
            "['Sun', 'Kevin', 'Games', 'Star Wars', 'Anime', 'Britain', '2024', 'Tennis', 'Hug']\n",
            "['Sun', 'Kevin', 'Games', 'Star Wars', 'Britain', '2024', 'Tennis', 'Hug']\n",
            "['Sun', 'Kevin', 'Games', 'Britain', '2024', 'Tennis', 'Hug']\n",
            "['2024', 'Britain', 'Games', 'Hug', 'Kevin', 'Sun', 'Tennis']\n",
            "['Tennis', 'Sun', 'Kevin', 'Hug', 'Games', 'Britain', '2024']\n"
          ]
        }
      ]
    },
    {
      "cell_type": "code",
      "source": [
        "#3-11\n",
        "lists=['Kevin', 'Games', 'Star Wars', 'Anime', 'Britain', '2024', 'Tennis']\n",
        "print(lists)\n",
        "lists.append('Hug')\n",
        "print(lists)\n",
        "lists.insert(0,'Sun')\n",
        "print(lists)\n",
        "del lists[4]\n",
        "print(lists)\n",
        "lists.pop(12)\n",
        "print(lists)\n",
        "lists.sort()\n",
        "print(lists)\n",
        "lists.reverse()\n",
        "print(lists)"
      ],
      "metadata": {
        "colab": {
          "base_uri": "https://localhost:8080/",
          "height": 314
        },
        "id": "iyo9P1ZIEPmO",
        "outputId": "9e061a39-1101-4538-e1b4-5895fd34fcc9"
      },
      "execution_count": 33,
      "outputs": [
        {
          "output_type": "stream",
          "name": "stdout",
          "text": [
            "['Kevin', 'Games', 'Star Wars', 'Anime', 'Britain', '2024', 'Tennis']\n",
            "['Kevin', 'Games', 'Star Wars', 'Anime', 'Britain', '2024', 'Tennis', 'Hug']\n",
            "['Sun', 'Kevin', 'Games', 'Star Wars', 'Anime', 'Britain', '2024', 'Tennis', 'Hug']\n",
            "['Sun', 'Kevin', 'Games', 'Star Wars', 'Britain', '2024', 'Tennis', 'Hug']\n"
          ]
        },
        {
          "output_type": "error",
          "ename": "IndexError",
          "evalue": "pop index out of range",
          "traceback": [
            "\u001b[0;31m---------------------------------------------------------------------------\u001b[0m",
            "\u001b[0;31mIndexError\u001b[0m                                Traceback (most recent call last)",
            "\u001b[0;32m<ipython-input-33-bc3b49680791>\u001b[0m in \u001b[0;36m<cell line: 10>\u001b[0;34m()\u001b[0m\n\u001b[1;32m      8\u001b[0m \u001b[0;32mdel\u001b[0m \u001b[0mlists\u001b[0m\u001b[0;34m[\u001b[0m\u001b[0;36m4\u001b[0m\u001b[0;34m]\u001b[0m\u001b[0;34m\u001b[0m\u001b[0;34m\u001b[0m\u001b[0m\n\u001b[1;32m      9\u001b[0m \u001b[0mprint\u001b[0m\u001b[0;34m(\u001b[0m\u001b[0mlists\u001b[0m\u001b[0;34m)\u001b[0m\u001b[0;34m\u001b[0m\u001b[0;34m\u001b[0m\u001b[0m\n\u001b[0;32m---> 10\u001b[0;31m \u001b[0mlists\u001b[0m\u001b[0;34m.\u001b[0m\u001b[0mpop\u001b[0m\u001b[0;34m(\u001b[0m\u001b[0;36m12\u001b[0m\u001b[0;34m)\u001b[0m\u001b[0;34m\u001b[0m\u001b[0;34m\u001b[0m\u001b[0m\n\u001b[0m\u001b[1;32m     11\u001b[0m \u001b[0mprint\u001b[0m\u001b[0;34m(\u001b[0m\u001b[0mlists\u001b[0m\u001b[0;34m)\u001b[0m\u001b[0;34m\u001b[0m\u001b[0;34m\u001b[0m\u001b[0m\n\u001b[1;32m     12\u001b[0m \u001b[0mlists\u001b[0m\u001b[0;34m.\u001b[0m\u001b[0msort\u001b[0m\u001b[0;34m(\u001b[0m\u001b[0;34m)\u001b[0m\u001b[0;34m\u001b[0m\u001b[0;34m\u001b[0m\u001b[0m\n",
            "\u001b[0;31mIndexError\u001b[0m: pop index out of range"
          ]
        }
      ]
    }
  ]
}