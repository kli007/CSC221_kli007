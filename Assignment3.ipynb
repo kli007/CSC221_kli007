{
  "nbformat": 4,
  "nbformat_minor": 0,
  "metadata": {
    "colab": {
      "provenance": [],
      "authorship_tag": "ABX9TyMh1n1QRz3J/DGkiplHUHfr",
      "include_colab_link": true
    },
    "kernelspec": {
      "name": "python3",
      "display_name": "Python 3"
    },
    "language_info": {
      "name": "python"
    }
  },
  "cells": [
    {
      "cell_type": "markdown",
      "metadata": {
        "id": "view-in-github",
        "colab_type": "text"
      },
      "source": [
        "<a href=\"https://colab.research.google.com/github/kli007/CSC221_kli007/blob/main/Assignment3.ipynb\" target=\"_parent\"><img src=\"https://colab.research.google.com/assets/colab-badge.svg\" alt=\"Open In Colab\"/></a>"
      ]
    },
    {
      "cell_type": "code",
      "source": [
        "#2-1\n",
        "message='hello there'\n",
        "print(message)"
      ],
      "metadata": {
        "colab": {
          "base_uri": "https://localhost:8080/"
        },
        "id": "tjLw4wYLMWlj",
        "outputId": "3deca844-a2e9-4762-f4b3-ac209de081d4"
      },
      "execution_count": null,
      "outputs": [
        {
          "output_type": "stream",
          "name": "stdout",
          "text": [
            "hello there\n"
          ]
        }
      ]
    },
    {
      "cell_type": "code",
      "source": [
        "#2-2\n",
        "message='hello there'\n",
        "print(message)\n",
        "message='general kenobi, you are a bold one'\n",
        "print(message)"
      ],
      "metadata": {
        "colab": {
          "base_uri": "https://localhost:8080/"
        },
        "id": "vY--ph_HMXB4",
        "outputId": "dcdb2dbc-d1b6-4999-a8f6-4df483f49621"
      },
      "execution_count": null,
      "outputs": [
        {
          "output_type": "stream",
          "name": "stdout",
          "text": [
            "hello there\n",
            "general kenobi, you are a bold one\n"
          ]
        }
      ]
    },
    {
      "cell_type": "code",
      "source": [
        "#2-3\n",
        "name='Kevin'\n",
        "print(f'Hello {name}, would you like to learn some Python today?')"
      ],
      "metadata": {
        "id": "eo8gDh3TFIsd",
        "colab": {
          "base_uri": "https://localhost:8080/"
        },
        "outputId": "b1b96f05-b578-4385-9bb9-13c99d433f8d"
      },
      "execution_count": null,
      "outputs": [
        {
          "output_type": "stream",
          "name": "stdout",
          "text": [
            "\"Hello Kevin, would you like to learn some Python today?\"\n"
          ]
        }
      ]
    },
    {
      "cell_type": "code",
      "execution_count": null,
      "metadata": {
        "id": "EHJO5bHiFFxG",
        "colab": {
          "base_uri": "https://localhost:8080/"
        },
        "outputId": "4134794d-fd0a-4294-9ca7-548d5731ae0c"
      },
      "outputs": [
        {
          "output_type": "stream",
          "name": "stdout",
          "text": [
            "KEVIN\n",
            "kevin\n",
            "Kevin\n"
          ]
        }
      ],
      "source": [
        "#2-4\n",
        "name='Kevin'\n",
        "print(name.upper())\n",
        "print(name.lower())\n",
        "print(name.title())"
      ]
    },
    {
      "cell_type": "code",
      "source": [
        "#2-5\n",
        "print('Matthew Patrick once said, \"Hello internet, and welcome to Game Theory!\"')"
      ],
      "metadata": {
        "colab": {
          "base_uri": "https://localhost:8080/"
        },
        "id": "MUBZtZGmLqCz",
        "outputId": "f400df2d-5c25-4f5c-8e05-9de9fcbe450d"
      },
      "execution_count": null,
      "outputs": [
        {
          "output_type": "stream",
          "name": "stdout",
          "text": [
            "Matthew Patrick once said \"Hello internet, and welcome to Game Theory!\"\n"
          ]
        }
      ]
    },
    {
      "cell_type": "code",
      "source": [
        "#2-6\n",
        "famous_person='Mathew Patrick'\n",
        "print(f'{famous_person} once said, \"Hello internet, and welcome to Game Theory!\"')"
      ],
      "metadata": {
        "colab": {
          "base_uri": "https://localhost:8080/"
        },
        "id": "fsdFfR5BMy3n",
        "outputId": "551c035e-b735-4c6b-d12f-514436361a7f"
      },
      "execution_count": null,
      "outputs": [
        {
          "output_type": "stream",
          "name": "stdout",
          "text": [
            "Mathew Patrick once said, \"Hello internet, and welcome to Game Theory!\"\n"
          ]
        }
      ]
    },
    {
      "cell_type": "code",
      "source": [
        "#2-7\n",
        "name='   Kevin   '\n",
        "print(name)\n",
        "print(name.lstrip())\n",
        "print(name.rstrip())\n",
        "print(name.strip())"
      ],
      "metadata": {
        "colab": {
          "base_uri": "https://localhost:8080/"
        },
        "id": "hhUNxrZSNcrD",
        "outputId": "61cf2cd8-c2cb-44df-91e0-1ccb098897fd"
      },
      "execution_count": null,
      "outputs": [
        {
          "output_type": "stream",
          "name": "stdout",
          "text": [
            "   Kevin   \n",
            "Kevin   \n",
            "   Kevin\n",
            "Kevin\n"
          ]
        }
      ]
    },
    {
      "cell_type": "code",
      "source": [
        "#2-8\n",
        "filename='python_notes.txt'\n",
        "print(filename.removesuffix('.txt'))"
      ],
      "metadata": {
        "colab": {
          "base_uri": "https://localhost:8080/"
        },
        "id": "Dd14WqEtOVXS",
        "outputId": "e700af4c-026d-4247-ace9-48da75316b33"
      },
      "execution_count": null,
      "outputs": [
        {
          "output_type": "stream",
          "name": "stdout",
          "text": [
            "python_notes\n"
          ]
        }
      ]
    },
    {
      "cell_type": "code",
      "source": [
        "#2-9\n",
        "print(3+5)\n",
        "print(17-9)\n",
        "print(2*4)\n",
        "print(400/50)"
      ],
      "metadata": {
        "colab": {
          "base_uri": "https://localhost:8080/"
        },
        "id": "QyftZdGVOxqf",
        "outputId": "1c8f6ca7-3ebf-4fa5-bbb4-79e73b4f012e"
      },
      "execution_count": null,
      "outputs": [
        {
          "output_type": "stream",
          "name": "stdout",
          "text": [
            "8\n",
            "8\n",
            "8\n",
            "8.0\n"
          ]
        }
      ]
    },
    {
      "cell_type": "code",
      "source": [
        "#2-10\n",
        "fav_number=9\n",
        "print(f'My favorite number is {fav_number}!')"
      ],
      "metadata": {
        "colab": {
          "base_uri": "https://localhost:8080/"
        },
        "id": "LG6RIQFwPmVA",
        "outputId": "475c543e-392b-4f59-f057-159dd37b2ad9"
      },
      "execution_count": null,
      "outputs": [
        {
          "output_type": "stream",
          "name": "stdout",
          "text": [
            "My favorite number is 9!\n"
          ]
        }
      ]
    },
    {
      "cell_type": "code",
      "source": [
        "#2-11\n",
        "#done"
      ],
      "metadata": {
        "id": "5IHu-KAzP1Fd"
      },
      "execution_count": null,
      "outputs": []
    },
    {
      "cell_type": "code",
      "source": [
        "#2-12\n",
        "import"
      ],
      "metadata": {
        "id": "lTu38pLXP_Ud"
      },
      "execution_count": null,
      "outputs": []
    }
  ]
}