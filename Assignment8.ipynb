{
  "nbformat": 4,
  "nbformat_minor": 0,
  "metadata": {
    "colab": {
      "provenance": [],
      "authorship_tag": "ABX9TyMDNp9l7+0Z9SwuqbtPovpt",
      "include_colab_link": true
    },
    "kernelspec": {
      "name": "python3",
      "display_name": "Python 3"
    },
    "language_info": {
      "name": "python"
    }
  },
  "cells": [
    {
      "cell_type": "markdown",
      "metadata": {
        "id": "view-in-github",
        "colab_type": "text"
      },
      "source": [
        "<a href=\"https://colab.research.google.com/github/kli007/CSC221_kli007/blob/main/Assignment8.ipynb\" target=\"_parent\"><img src=\"https://colab.research.google.com/assets/colab-badge.svg\" alt=\"Open In Colab\"/></a>"
      ]
    },
    {
      "cell_type": "code",
      "execution_count": 5,
      "metadata": {
        "colab": {
          "base_uri": "https://localhost:8080/"
        },
        "id": "CXxMO_24Q8Oz",
        "outputId": "362ecac2-bd20-4b0e-f322-e29e3835bc28"
      },
      "outputs": [
        {
          "output_type": "stream",
          "name": "stdout",
          "text": [
            "One of my favorite books is Percy Jackson.\n"
          ]
        }
      ],
      "source": [
        "#8-2\n",
        "def favorite_book(title):\n",
        "  print(f'One of my favorite books is {title}.')\n",
        "favorite_book('Percy Jackson')"
      ]
    },
    {
      "cell_type": "code",
      "source": [
        "#8-3\n",
        "def make_shirt(size, text):\n",
        "  print(f'The shirt size is {size} and contains the message \"{text}\".\\n')\n",
        "make_shirt('medium', 'I am a medium-sized idiot')\n",
        "make_shirt(text = 'I am a medium-sized idiot', size = 'medium')"
      ],
      "metadata": {
        "colab": {
          "base_uri": "https://localhost:8080/"
        },
        "id": "IU362IMqSCXV",
        "outputId": "e774dcee-8702-4750-ea19-be8de1a5b3e1"
      },
      "execution_count": 19,
      "outputs": [
        {
          "output_type": "stream",
          "name": "stdout",
          "text": [
            "The shirt size is medium and contains the message \"I am a medium-sized idiot\".\n",
            "\n",
            "The shirt size is medium and contains the message \"I am a medium-sized idiot\".\n",
            "\n"
          ]
        }
      ]
    },
    {
      "cell_type": "code",
      "source": [
        "#8-4\n",
        "def make_shirt(size = 'large', text = 'I love Python'):\n",
        "  print(f'The shirt size is {size} and contains the message \"{text}\".\\n')\n",
        "make_shirt()\n",
        "make_shirt(size = 'medium')\n",
        "make_shirt(size = 'small', text = 'Honestly, C++ is better')"
      ],
      "metadata": {
        "colab": {
          "base_uri": "https://localhost:8080/"
        },
        "id": "vcsCeYIjT-OM",
        "outputId": "63b17676-797c-4d63-9054-52ddd9e4ca62"
      },
      "execution_count": 20,
      "outputs": [
        {
          "output_type": "stream",
          "name": "stdout",
          "text": [
            "The shirt size is large and contains the message \"I love Python\".\n",
            "\n",
            "The shirt size is medium and contains the message \"I love Python\".\n",
            "\n",
            "The shirt size is small and contains the message \"Honestly, C++ is better\".\n",
            "\n"
          ]
        }
      ]
    },
    {
      "cell_type": "markdown",
      "source": [
        "function (a b c) c is predefined\n",
        "make them into integars and the add them up\n",
        "then mulitply them together\n",
        "and then put them into a list"
      ],
      "metadata": {
        "id": "j_wMBch9WcqM"
      }
    },
    {
      "cell_type": "code",
      "source": [
        "#fun8\n",
        "def func8(a, b, c = 42):\n",
        "  a=int(a)\n",
        "  b=int(b)\n",
        "  c=int(c)\n",
        "  numlist=[a, b, c]\n",
        "  print(f'The sum of {a}, {b}, and {c} is {a + b + c}.\\n')\n",
        "  print(f'The product of {a}, {b}, and {c} is {a * b * c}.\\n')\n",
        "  print(f'The numbers in order is {sorted(numlist)}.\\n \\n')\n",
        "\n",
        "func8(1, 105)\n",
        "func8(4, 1, 7)\n",
        "func8(a='3', c='19', b='2')\n",
        "func8(a='0', b='0')\n",
        "func8(10, 8, 9)\n",
        "func8(a=9212, b=1, c=12)"
      ],
      "metadata": {
        "colab": {
          "base_uri": "https://localhost:8080/"
        },
        "id": "e_ItTWiJVQ1H",
        "outputId": "40bf90a2-c9e2-4f67-b6ec-4d1addeb5851"
      },
      "execution_count": 34,
      "outputs": [
        {
          "output_type": "stream",
          "name": "stdout",
          "text": [
            "The sum of 1, 105, and 42 is 148.\n",
            "\n",
            "The product of 1, 105, and 42 is 4410.\n",
            "\n",
            "The numbers in order is [1, 42, 105].\n",
            " \n",
            "\n",
            "The sum of 4, 1, and 7 is 12.\n",
            "\n",
            "The product of 4, 1, and 7 is 28.\n",
            "\n",
            "The numbers in order is [1, 4, 7].\n",
            " \n",
            "\n",
            "The sum of 3, 2, and 19 is 24.\n",
            "\n",
            "The product of 3, 2, and 19 is 114.\n",
            "\n",
            "The numbers in order is [2, 3, 19].\n",
            " \n",
            "\n",
            "The sum of 0, 0, and 42 is 42.\n",
            "\n",
            "The product of 0, 0, and 42 is 0.\n",
            "\n",
            "The numbers in order is [0, 0, 42].\n",
            " \n",
            "\n",
            "The sum of 10, 8, and 9 is 27.\n",
            "\n",
            "The product of 10, 8, and 9 is 720.\n",
            "\n",
            "The numbers in order is [8, 9, 10].\n",
            " \n",
            "\n",
            "The sum of 9212, 1, and 12 is 9225.\n",
            "\n",
            "The product of 9212, 1, and 12 is 110544.\n",
            "\n",
            "The numbers in order is [1, 12, 9212].\n",
            " \n",
            "\n"
          ]
        }
      ]
    }
  ]
}